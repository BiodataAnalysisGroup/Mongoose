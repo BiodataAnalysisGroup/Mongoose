{
  "metadata": {
    "kernelspec": {
      "name": "python",
      "display_name": "Python (Pyodide)",
      "language": "python"
    },
    "language_info": {
      "codemirror_mode": {
        "name": "python",
        "version": 3
      },
      "file_extension": ".py",
      "mimetype": "text/x-python",
      "name": "python",
      "nbconvert_exporter": "python",
      "pygments_lexer": "ipython3",
      "version": "3.8"
    }
  },
  "nbformat_minor": 4,
  "nbformat": 4,
  "cells": [
    {
      "cell_type": "code",
      "source": "# -*- coding: utf-8 -*-\n\"\"\"\nCreated on Thu Sep 12 13:50:38 2024",
      "metadata": {},
      "outputs": [],
      "execution_count": null
    },
    {
      "cell_type": "code",
      "source": "@author: aspasiaor\n\"\"\"",
      "metadata": {},
      "outputs": [],
      "execution_count": null
    },
    {
      "cell_type": "code",
      "source": "%pip install pandas",
      "metadata": {
        "trusted": true
      },
      "outputs": [],
      "execution_count": 1
    },
    {
      "cell_type": "code",
      "source": "import pandas as pd",
      "metadata": {
        "trusted": true
      },
      "outputs": [
        {
          "name": "stderr",
          "text": "<ipython-input-2-7dd3504c366f>:1: DeprecationWarning: \nPyarrow will become a required dependency of pandas in the next major release of pandas (pandas 3.0),\n(to allow more performant data types, such as the Arrow string type, and better interoperability with other libraries)\nbut was not found to be installed on your system.\nIf this would cause problems for you,\nplease provide us feedback at https://github.com/pandas-dev/pandas/issues/54466\n        \n  import pandas as pd\n",
          "output_type": "stream"
        }
      ],
      "execution_count": 2
    },
    {
      "cell_type": "markdown",
      "source": "Load the CSV files",
      "metadata": {}
    },
    {
      "cell_type": "code",
      "source": "genki_filtered_dicer1_df = pd.read_csv('genki_filtered_df_Dicer1.csv') \nunit_filtered_dicer1_df = pd.read_csv('unit_filtered_df_Dicer1.csv')\nmon_filtered_dicer1_df = pd.read_csv('mon_filtered_df_Dicer1.csv')",
      "metadata": {
        "trusted": true
      },
      "outputs": [],
      "execution_count": 3
    },
    {
      "cell_type": "markdown",
      "source": "Initialize the matrix (assuming you have your unique pathways list already)",
      "metadata": {}
    },
    {
      "cell_type": "code",
      "source": "row_names = [\n    '(2008) Atlas of gene expression in the developing kidney at microanatomic resolution.',\n    '(2018) Cross-platform single cell analysis of kidney development shows stromal cells express Gdnf.',\n    '(2021) Different Patterns of Kidney Fibrosis Are Indicative of Injury to Distinct Renal Compartments.',\n    '(2022) Enhanced metanephric specification to functional proximal tubule enables toxicity screening and infectious disease modelling in kidney organoids.',\n    '(2022) Single-cell multiomics reveals the complexity of TGFbeta signalling to chromatin in iPSC-derived kidney organoids.',\n    '(2023) Growth and differentiation of human induced pluripotent stem cell (hiPSC)-derived kidney organoids using fully synthetic peptide hydrogels.',\n    '(2023) Single cell spatial transcriptomic profiling of childhood-onset lupus nephritis reveals complex interactions between kidney stroma and infiltrating immune cells.',\n    'Abnormal kidney collecting duct morphology',\n    'Abnormal kidney development',\n    'Abnormal kidney morphology',\n    'Kidney',\n    'Kidney epithelium development',\n    'Metanephros development',\n    'Nephron epithelium morphogenesis',\n    'Nephron tubule development',\n    'Ureteric bud development'\n]",
      "metadata": {
        "trusted": true
      },
      "outputs": [],
      "execution_count": 4
    },
    {
      "cell_type": "code",
      "source": "column_names = [\"GenKI\", \"UnitedNet\", \"Mongoose\"]",
      "metadata": {
        "trusted": true
      },
      "outputs": [],
      "execution_count": 5
    },
    {
      "cell_type": "markdown",
      "source": "Creating an empty DataFrame with the specified row and column names",
      "metadata": {}
    },
    {
      "cell_type": "code",
      "source": "matrix = pd.DataFrame(index=row_names, columns=column_names)",
      "metadata": {
        "trusted": true
      },
      "outputs": [],
      "execution_count": 6
    },
    {
      "cell_type": "markdown",
      "source": "Clear previous one-hot encoding (set all values to NaN)",
      "metadata": {}
    },
    {
      "cell_type": "code",
      "source": "matrix[['GenKI', 'UnitedNet', 'Mongoose']] = pd.NA",
      "metadata": {
        "trusted": true
      },
      "outputs": [],
      "execution_count": 7
    },
    {
      "cell_type": "markdown",
      "source": "Create sets for faster lookup from each CSV file's 'description' column",
      "metadata": {}
    },
    {
      "cell_type": "code",
      "source": "genki_dicer1_descriptions_set = set(genki_filtered_dicer1_df['description'])\nunit_dicer1_descriptions_set = set(unit_filtered_dicer1_df['description'])\nmon_dicer1_descriptions_set = set(mon_filtered_dicer1_df['description'])",
      "metadata": {
        "trusted": true
      },
      "outputs": [],
      "execution_count": 8
    },
    {
      "cell_type": "markdown",
      "source": "Perform one-hot encoding based on the descriptions",
      "metadata": {}
    },
    {
      "cell_type": "code",
      "source": "matrix['GenKI'] = matrix.index.map(lambda x: 1 if x in genki_dicer1_descriptions_set else 0)\nmatrix['UnitedNet'] = matrix.index.map(lambda x: 1 if x in unit_dicer1_descriptions_set else 0)\nmatrix['Mongoose'] = matrix.index.map(lambda x: 1 if x in mon_dicer1_descriptions_set else 0)",
      "metadata": {
        "trusted": true
      },
      "outputs": [],
      "execution_count": 9
    },
    {
      "cell_type": "markdown",
      "source": "Export the updated matrix to a new CSV file",
      "metadata": {}
    },
    {
      "cell_type": "code",
      "source": "output_path = 'updated_matrix_dicer1.csv'\nmatrix.to_csv(output_path)",
      "metadata": {},
      "outputs": [],
      "execution_count": null
    },
    {
      "cell_type": "code",
      "source": "print(f\"Updated matrix saved to {output_path}\")",
      "metadata": {},
      "outputs": [],
      "execution_count": null
    }
  ]
}