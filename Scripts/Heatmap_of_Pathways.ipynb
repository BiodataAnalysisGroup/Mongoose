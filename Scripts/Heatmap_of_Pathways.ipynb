{
  "metadata": {
    "kernelspec": {
      "name": "python",
      "display_name": "Python (Pyodide)",
      "language": "python"
    },
    "language_info": {
      "codemirror_mode": {
        "name": "python",
        "version": 3
      },
      "file_extension": ".py",
      "mimetype": "text/x-python",
      "name": "python",
      "nbconvert_exporter": "python",
      "pygments_lexer": "ipython3",
      "version": "3.8"
    }
  },
  "nbformat_minor": 4,
  "nbformat": 4,
  "cells": [
    {
      "cell_type": "code",
      "source": "# -*- coding: utf-8 -*-\n\"\"\"\nCreated on Thu Sep 12 14:11:51 2024",
      "metadata": {},
      "outputs": [],
      "execution_count": null
    },
    {
      "cell_type": "code",
      "source": "@author: aspasiaor\n\"\"\"",
      "metadata": {},
      "outputs": [],
      "execution_count": null
    },
    {
      "cell_type": "code",
      "source": "%pip install pandas matplotlib seaborn\n",
      "metadata": {
        "trusted": true
      },
      "outputs": [],
      "execution_count": 1
    },
    {
      "cell_type": "code",
      "source": "import pandas as pd\nimport matplotlib.pyplot as plt\nimport seaborn as sns\nfrom matplotlib.patches import Patch",
      "metadata": {
        "trusted": true
      },
      "outputs": [
        {
          "name": "stderr",
          "text": "<ipython-input-2-5f84885385b5>:1: DeprecationWarning: \nPyarrow will become a required dependency of pandas in the next major release of pandas (pandas 3.0),\n(to allow more performant data types, such as the Arrow string type, and better interoperability with other libraries)\nbut was not found to be installed on your system.\nIf this would cause problems for you,\nplease provide us feedback at https://github.com/pandas-dev/pandas/issues/54466\n        \n  import pandas as pd\n",
          "output_type": "stream"
        }
      ],
      "execution_count": 2
    },
    {
      "cell_type": "markdown",
      "source": "Define the file paths",
      "metadata": {}
    },
    {
      "cell_type": "code",
      "source": "file_path_gpc3 = 'updated_matrix_gpc3.csv'\nfile_path_six2 = 'updated_matrix_six2.csv'\nfile_path_dicer1 = 'updated_matrix_dicer1.csv'",
      "metadata": {
        "trusted": true
      },
      "outputs": [],
      "execution_count": 3
    },
    {
      "cell_type": "markdown",
      "source": "Load the datasets",
      "metadata": {}
    },
    {
      "cell_type": "code",
      "source": "data_gpc3 = pd.read_csv(file_path_gpc3)\ndata_six2 = pd.read_csv(file_path_six2)\ndata_dicer1 = pd.read_csv(file_path_dicer1)",
      "metadata": {
        "trusted": true
      },
      "outputs": [],
      "execution_count": 4
    },
    {
      "cell_type": "markdown",
      "source": "Set the first column as index for better labeling",
      "metadata": {}
    },
    {
      "cell_type": "code",
      "source": "data_gpc3.set_index(data_gpc3.columns[0], inplace=True)\ndata_six2.set_index(data_six2.columns[0], inplace=True)\ndata_dicer1.set_index(data_dicer1.columns[0], inplace=True)",
      "metadata": {
        "trusted": true
      },
      "outputs": [],
      "execution_count": 5
    },
    {
      "cell_type": "markdown",
      "source": "Shorten descriptions that are too long",
      "metadata": {}
    },
    {
      "cell_type": "code",
      "source": "max_length = 50\ndata_gpc3_shortened = data_gpc3.copy()\ndata_gpc3_shortened.index = data_gpc3_shortened.index.to_series().apply(lambda x: x[:max_length] + '...' if len(x) > max_length else x)",
      "metadata": {
        "trusted": true
      },
      "outputs": [],
      "execution_count": 6
    },
    {
      "cell_type": "code",
      "source": "data_six2_shortened = data_six2.copy()\ndata_six2_shortened.index = data_six2_shortened.index.to_series().apply(lambda x: x[:max_length] + '...' if len(x) > max_length else x)",
      "metadata": {
        "trusted": true
      },
      "outputs": [],
      "execution_count": 7
    },
    {
      "cell_type": "code",
      "source": "data_dicer1_shortened = data_dicer1.copy()\ndata_dicer1_shortened.index = data_dicer1_shortened.index.to_series().apply(lambda x: x[:max_length] + '...' if len(x) > max_length else x)",
      "metadata": {
        "trusted": true
      },
      "outputs": [],
      "execution_count": 8
    },
    {
      "cell_type": "markdown",
      "source": "Define custom colors for the heatmap",
      "metadata": {}
    },
    {
      "cell_type": "code",
      "source": "cmap = sns.color_palette(['#F0F8FF', '#5DADE2'])",
      "metadata": {
        "trusted": true
      },
      "outputs": [],
      "execution_count": 9
    },
    {
      "cell_type": "markdown",
      "source": "Update the legend elements with new descriptions",
      "metadata": {}
    },
    {
      "cell_type": "code",
      "source": "legend_elements_updated = [\n    Patch(facecolor='#5DADE2', label='Kidney pathway found'),\n    Patch(facecolor='#F0F8FF', label='Kidney pathway not found')\n]",
      "metadata": {
        "trusted": true
      },
      "outputs": [],
      "execution_count": 10
    },
    {
      "cell_type": "code",
      "source": "def create_heatmap(data, title, output_path):\n    plt.figure(figsize=(10, 8))\n    ax = sns.heatmap(data, annot=False, cmap=cmap, linewidths=0.5, cbar=False)\n\n    # Set x and y axis labels to white\n    ax.tick_params(axis='x', colors='white')\n    ax.tick_params(axis='y', colors='white')\n\n    # Set the title with white color\n    plt.title(title, color='white')\n\n    # Adjust the layout to prevent cropping of the pathway names\n    plt.tight_layout()\n\n    # Add updated legend on the left corner\n    plt.legend(handles=legend_elements_updated, loc='upper left')\n\n    # Save the figure with transparent background, white labels, adjusted margins, and updated legend\n    plt.savefig(output_path, transparent=True, dpi=300)\n    plt.close()",
      "metadata": {
        "trusted": true
      },
      "outputs": [],
      "execution_count": 11
    },
    {
      "cell_type": "markdown",
      "source": "Create heatmaps for Gpc3, Six2, and Dicer1",
      "metadata": {}
    },
    {
      "cell_type": "code",
      "source": "create_heatmap(data_gpc3_shortened, 'Digital KO of Gpc3', 'Digital_KO_of_Gpc3_Transparent_White_Labels_Left_Legend.png')\ncreate_heatmap(data_six2_shortened, 'Digital KO for Six2', 'Digital_KO_for_Six2_Transparent_White_Labels_Left_Legend.png')\ncreate_heatmap(data_dicer1_shortened, 'Digital KO for Dicer1', 'Digital_KO_for_Dicer1_Transparent_White_Labels_Left_Legend.png')",
      "metadata": {
        "trusted": true
      },
      "outputs": [],
      "execution_count": 12
    },
    {
      "cell_type": "code",
      "source": "print(\"Heatmaps have been created and saved successfully.\")",
      "metadata": {},
      "outputs": [],
      "execution_count": null
    }
  ]
}