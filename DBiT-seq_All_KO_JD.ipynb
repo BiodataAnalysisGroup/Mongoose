{
  "nbformat": 4,
  "nbformat_minor": 0,
  "metadata": {
    "colab": {
      "provenance": []
    },
    "kernelspec": {
      "name": "python3",
      "display_name": "Python 3"
    },
    "language_info": {
      "name": "python"
    }
  },
  "cells": [
    {
      "cell_type": "markdown",
      "source": [
        "# GenKI ko DBit-seq\n",
        "\n",
        "\n"
      ],
      "metadata": {
        "id": "5r4V5s1E0RJh"
      }
    },
    {
      "cell_type": "markdown",
      "source": [
        "## set up"
      ],
      "metadata": {
        "id": "i9U7xC7X0cvu"
      }
    },
    {
      "cell_type": "code",
      "source": [
        "# Install GenKI and torch_geometric as a prerequisite\n",
        "! pip install git+https://github.com/yjgeno/GenKI.git\n",
        "! pip install torch_geometric\n",
        "\n",
        "# Install STRINGdb and Networkx for network biology models\n",
        "! pip install stringdb\n",
        "! pip install networkx pandas"
      ],
      "metadata": {
        "colab": {
          "base_uri": "https://localhost:8080/"
        },
        "id": "HpFpvGMNyzkh",
        "outputId": "97f479fd-bb1d-43ec-9b83-aa51bfc245a4"
      },
      "execution_count": 1,
      "outputs": [
        {
          "output_type": "stream",
          "name": "stdout",
          "text": [
            "Collecting git+https://github.com/yjgeno/GenKI.git\n",
            "  Cloning https://github.com/yjgeno/GenKI.git to /tmp/pip-req-build-hxg0bhcj\n",
            "  Running command git clone --filter=blob:none --quiet https://github.com/yjgeno/GenKI.git /tmp/pip-req-build-hxg0bhcj\n",
            "  Resolved https://github.com/yjgeno/GenKI.git to commit 6d69789b89859eda75ac75dfb1cc00ef190ada41\n",
            "  Preparing metadata (setup.py) ... \u001b[?25l\u001b[?25hdone\n",
            "Requirement already satisfied: anndata==0.8.0 in /usr/local/lib/python3.10/dist-packages (from GenKI==0.0.1.dev0) (0.8.0)\n",
            "Requirement already satisfied: matplotlib~=3.5.1 in /usr/local/lib/python3.10/dist-packages (from GenKI==0.0.1.dev0) (3.5.3)\n",
            "Requirement already satisfied: numpy>=1.21.6 in /usr/local/lib/python3.10/dist-packages (from GenKI==0.0.1.dev0) (1.24.4)\n",
            "Requirement already satisfied: pandas~=1.4.2 in /usr/local/lib/python3.10/dist-packages (from GenKI==0.0.1.dev0) (1.4.4)\n",
            "Requirement already satisfied: ray>=1.11.0 in /usr/local/lib/python3.10/dist-packages (from GenKI==0.0.1.dev0) (2.40.0)\n",
            "Requirement already satisfied: scanpy==1.9.1 in /usr/local/lib/python3.10/dist-packages (from GenKI==0.0.1.dev0) (1.9.1)\n",
            "Requirement already satisfied: scipy~=1.8.0 in /usr/local/lib/python3.10/dist-packages (from GenKI==0.0.1.dev0) (1.8.1)\n",
            "Requirement already satisfied: statsmodels~=0.13.2 in /usr/local/lib/python3.10/dist-packages (from GenKI==0.0.1.dev0) (0.13.5)\n",
            "Requirement already satisfied: scikit_learn>=1.0.2 in /usr/local/lib/python3.10/dist-packages (from GenKI==0.0.1.dev0) (1.5.2)\n",
            "Requirement already satisfied: tqdm~=4.64.0 in /usr/local/lib/python3.10/dist-packages (from GenKI==0.0.1.dev0) (4.64.1)\n",
            "Requirement already satisfied: h5py>=3 in /usr/local/lib/python3.10/dist-packages (from anndata==0.8.0->GenKI==0.0.1.dev0) (3.12.1)\n",
            "Requirement already satisfied: natsort in /usr/local/lib/python3.10/dist-packages (from anndata==0.8.0->GenKI==0.0.1.dev0) (8.4.0)\n",
            "Requirement already satisfied: packaging>=20 in /usr/local/lib/python3.10/dist-packages (from anndata==0.8.0->GenKI==0.0.1.dev0) (24.2)\n",
            "Requirement already satisfied: seaborn in /usr/local/lib/python3.10/dist-packages (from scanpy==1.9.1->GenKI==0.0.1.dev0) (0.13.2)\n",
            "Requirement already satisfied: patsy in /usr/local/lib/python3.10/dist-packages (from scanpy==1.9.1->GenKI==0.0.1.dev0) (1.0.1)\n",
            "Requirement already satisfied: networkx>=2.3 in /usr/local/lib/python3.10/dist-packages (from scanpy==1.9.1->GenKI==0.0.1.dev0) (3.4.2)\n",
            "Requirement already satisfied: joblib in /usr/local/lib/python3.10/dist-packages (from scanpy==1.9.1->GenKI==0.0.1.dev0) (1.4.2)\n",
            "Requirement already satisfied: numba>=0.41.0 in /usr/local/lib/python3.10/dist-packages (from scanpy==1.9.1->GenKI==0.0.1.dev0) (0.60.0)\n",
            "Requirement already satisfied: umap-learn>=0.3.10 in /usr/local/lib/python3.10/dist-packages (from scanpy==1.9.1->GenKI==0.0.1.dev0) (0.5.7)\n",
            "Requirement already satisfied: session-info in /usr/local/lib/python3.10/dist-packages (from scanpy==1.9.1->GenKI==0.0.1.dev0) (1.0.0)\n",
            "Requirement already satisfied: cycler>=0.10 in /usr/local/lib/python3.10/dist-packages (from matplotlib~=3.5.1->GenKI==0.0.1.dev0) (0.12.1)\n",
            "Requirement already satisfied: fonttools>=4.22.0 in /usr/local/lib/python3.10/dist-packages (from matplotlib~=3.5.1->GenKI==0.0.1.dev0) (4.55.0)\n",
            "Requirement already satisfied: kiwisolver>=1.0.1 in /usr/local/lib/python3.10/dist-packages (from matplotlib~=3.5.1->GenKI==0.0.1.dev0) (1.4.7)\n",
            "Requirement already satisfied: pillow>=6.2.0 in /usr/local/lib/python3.10/dist-packages (from matplotlib~=3.5.1->GenKI==0.0.1.dev0) (11.0.0)\n",
            "Requirement already satisfied: pyparsing>=2.2.1 in /usr/local/lib/python3.10/dist-packages (from matplotlib~=3.5.1->GenKI==0.0.1.dev0) (3.2.0)\n",
            "Requirement already satisfied: python-dateutil>=2.7 in /usr/local/lib/python3.10/dist-packages (from matplotlib~=3.5.1->GenKI==0.0.1.dev0) (2.8.2)\n",
            "Requirement already satisfied: pytz>=2020.1 in /usr/local/lib/python3.10/dist-packages (from pandas~=1.4.2->GenKI==0.0.1.dev0) (2024.2)\n",
            "Requirement already satisfied: click>=7.0 in /usr/local/lib/python3.10/dist-packages (from ray>=1.11.0->GenKI==0.0.1.dev0) (8.1.7)\n",
            "Requirement already satisfied: filelock in /usr/local/lib/python3.10/dist-packages (from ray>=1.11.0->GenKI==0.0.1.dev0) (3.16.1)\n",
            "Requirement already satisfied: jsonschema in /usr/local/lib/python3.10/dist-packages (from ray>=1.11.0->GenKI==0.0.1.dev0) (4.23.0)\n",
            "Requirement already satisfied: msgpack<2.0.0,>=1.0.0 in /usr/local/lib/python3.10/dist-packages (from ray>=1.11.0->GenKI==0.0.1.dev0) (1.1.0)\n",
            "Requirement already satisfied: protobuf!=3.19.5,>=3.15.3 in /usr/local/lib/python3.10/dist-packages (from ray>=1.11.0->GenKI==0.0.1.dev0) (4.25.5)\n",
            "Requirement already satisfied: pyyaml in /usr/local/lib/python3.10/dist-packages (from ray>=1.11.0->GenKI==0.0.1.dev0) (6.0.2)\n",
            "Requirement already satisfied: aiosignal in /usr/local/lib/python3.10/dist-packages (from ray>=1.11.0->GenKI==0.0.1.dev0) (1.3.1)\n",
            "Requirement already satisfied: frozenlist in /usr/local/lib/python3.10/dist-packages (from ray>=1.11.0->GenKI==0.0.1.dev0) (1.5.0)\n",
            "Requirement already satisfied: requests in /usr/local/lib/python3.10/dist-packages (from ray>=1.11.0->GenKI==0.0.1.dev0) (2.32.3)\n",
            "Requirement already satisfied: threadpoolctl>=3.1.0 in /usr/local/lib/python3.10/dist-packages (from scikit_learn>=1.0.2->GenKI==0.0.1.dev0) (3.5.0)\n",
            "Requirement already satisfied: llvmlite<0.44,>=0.43.0dev0 in /usr/local/lib/python3.10/dist-packages (from numba>=0.41.0->scanpy==1.9.1->GenKI==0.0.1.dev0) (0.43.0)\n",
            "Requirement already satisfied: six>=1.5 in /usr/local/lib/python3.10/dist-packages (from python-dateutil>=2.7->matplotlib~=3.5.1->GenKI==0.0.1.dev0) (1.16.0)\n",
            "Requirement already satisfied: pynndescent>=0.5 in /usr/local/lib/python3.10/dist-packages (from umap-learn>=0.3.10->scanpy==1.9.1->GenKI==0.0.1.dev0) (0.5.13)\n",
            "Requirement already satisfied: attrs>=22.2.0 in /usr/local/lib/python3.10/dist-packages (from jsonschema->ray>=1.11.0->GenKI==0.0.1.dev0) (24.2.0)\n",
            "Requirement already satisfied: jsonschema-specifications>=2023.03.6 in /usr/local/lib/python3.10/dist-packages (from jsonschema->ray>=1.11.0->GenKI==0.0.1.dev0) (2024.10.1)\n",
            "Requirement already satisfied: referencing>=0.28.4 in /usr/local/lib/python3.10/dist-packages (from jsonschema->ray>=1.11.0->GenKI==0.0.1.dev0) (0.35.1)\n",
            "Requirement already satisfied: rpds-py>=0.7.1 in /usr/local/lib/python3.10/dist-packages (from jsonschema->ray>=1.11.0->GenKI==0.0.1.dev0) (0.21.0)\n",
            "Requirement already satisfied: charset-normalizer<4,>=2 in /usr/local/lib/python3.10/dist-packages (from requests->ray>=1.11.0->GenKI==0.0.1.dev0) (3.4.0)\n",
            "Requirement already satisfied: idna<4,>=2.5 in /usr/local/lib/python3.10/dist-packages (from requests->ray>=1.11.0->GenKI==0.0.1.dev0) (3.10)\n",
            "Requirement already satisfied: urllib3<3,>=1.21.1 in /usr/local/lib/python3.10/dist-packages (from requests->ray>=1.11.0->GenKI==0.0.1.dev0) (2.2.3)\n",
            "Requirement already satisfied: certifi>=2017.4.17 in /usr/local/lib/python3.10/dist-packages (from requests->ray>=1.11.0->GenKI==0.0.1.dev0) (2024.8.30)\n",
            "Requirement already satisfied: stdlib-list in /usr/local/lib/python3.10/dist-packages (from session-info->scanpy==1.9.1->GenKI==0.0.1.dev0) (0.11.0)\n",
            "Requirement already satisfied: torch_geometric in /usr/local/lib/python3.10/dist-packages (2.6.1)\n",
            "Requirement already satisfied: aiohttp in /usr/local/lib/python3.10/dist-packages (from torch_geometric) (3.11.2)\n",
            "Requirement already satisfied: fsspec in /usr/local/lib/python3.10/dist-packages (from torch_geometric) (2024.10.0)\n",
            "Requirement already satisfied: jinja2 in /usr/local/lib/python3.10/dist-packages (from torch_geometric) (3.1.4)\n",
            "Requirement already satisfied: numpy in /usr/local/lib/python3.10/dist-packages (from torch_geometric) (1.24.4)\n",
            "Requirement already satisfied: psutil>=5.8.0 in /usr/local/lib/python3.10/dist-packages (from torch_geometric) (5.9.5)\n",
            "Requirement already satisfied: pyparsing in /usr/local/lib/python3.10/dist-packages (from torch_geometric) (3.2.0)\n",
            "Requirement already satisfied: requests in /usr/local/lib/python3.10/dist-packages (from torch_geometric) (2.32.3)\n",
            "Requirement already satisfied: tqdm in /usr/local/lib/python3.10/dist-packages (from torch_geometric) (4.64.1)\n",
            "Requirement already satisfied: aiohappyeyeballs>=2.3.0 in /usr/local/lib/python3.10/dist-packages (from aiohttp->torch_geometric) (2.4.3)\n",
            "Requirement already satisfied: aiosignal>=1.1.2 in /usr/local/lib/python3.10/dist-packages (from aiohttp->torch_geometric) (1.3.1)\n",
            "Requirement already satisfied: attrs>=17.3.0 in /usr/local/lib/python3.10/dist-packages (from aiohttp->torch_geometric) (24.2.0)\n",
            "Requirement already satisfied: frozenlist>=1.1.1 in /usr/local/lib/python3.10/dist-packages (from aiohttp->torch_geometric) (1.5.0)\n",
            "Requirement already satisfied: multidict<7.0,>=4.5 in /usr/local/lib/python3.10/dist-packages (from aiohttp->torch_geometric) (6.1.0)\n",
            "Requirement already satisfied: propcache>=0.2.0 in /usr/local/lib/python3.10/dist-packages (from aiohttp->torch_geometric) (0.2.0)\n",
            "Requirement already satisfied: yarl<2.0,>=1.17.0 in /usr/local/lib/python3.10/dist-packages (from aiohttp->torch_geometric) (1.17.2)\n",
            "Requirement already satisfied: async-timeout<6.0,>=4.0 in /usr/local/lib/python3.10/dist-packages (from aiohttp->torch_geometric) (4.0.3)\n",
            "Requirement already satisfied: MarkupSafe>=2.0 in /usr/local/lib/python3.10/dist-packages (from jinja2->torch_geometric) (3.0.2)\n",
            "Requirement already satisfied: charset-normalizer<4,>=2 in /usr/local/lib/python3.10/dist-packages (from requests->torch_geometric) (3.4.0)\n",
            "Requirement already satisfied: idna<4,>=2.5 in /usr/local/lib/python3.10/dist-packages (from requests->torch_geometric) (3.10)\n",
            "Requirement already satisfied: urllib3<3,>=1.21.1 in /usr/local/lib/python3.10/dist-packages (from requests->torch_geometric) (2.2.3)\n",
            "Requirement already satisfied: certifi>=2017.4.17 in /usr/local/lib/python3.10/dist-packages (from requests->torch_geometric) (2024.8.30)\n",
            "Requirement already satisfied: typing-extensions>=4.1.0 in /usr/local/lib/python3.10/dist-packages (from multidict<7.0,>=4.5->aiohttp->torch_geometric) (4.12.2)\n",
            "Requirement already satisfied: stringdb in /usr/local/lib/python3.10/dist-packages (0.1.5)\n",
            "Requirement already satisfied: pandas in /usr/local/lib/python3.10/dist-packages (from stringdb) (1.4.4)\n",
            "Requirement already satisfied: requests in /usr/local/lib/python3.10/dist-packages (from stringdb) (2.32.3)\n",
            "Requirement already satisfied: python-dateutil>=2.8.1 in /usr/local/lib/python3.10/dist-packages (from pandas->stringdb) (2.8.2)\n",
            "Requirement already satisfied: pytz>=2020.1 in /usr/local/lib/python3.10/dist-packages (from pandas->stringdb) (2024.2)\n",
            "Requirement already satisfied: numpy>=1.21.0 in /usr/local/lib/python3.10/dist-packages (from pandas->stringdb) (1.24.4)\n",
            "Requirement already satisfied: charset-normalizer<4,>=2 in /usr/local/lib/python3.10/dist-packages (from requests->stringdb) (3.4.0)\n",
            "Requirement already satisfied: idna<4,>=2.5 in /usr/local/lib/python3.10/dist-packages (from requests->stringdb) (3.10)\n",
            "Requirement already satisfied: urllib3<3,>=1.21.1 in /usr/local/lib/python3.10/dist-packages (from requests->stringdb) (2.2.3)\n",
            "Requirement already satisfied: certifi>=2017.4.17 in /usr/local/lib/python3.10/dist-packages (from requests->stringdb) (2024.8.30)\n",
            "Requirement already satisfied: six>=1.5 in /usr/local/lib/python3.10/dist-packages (from python-dateutil>=2.8.1->pandas->stringdb) (1.16.0)\n",
            "Requirement already satisfied: networkx in /usr/local/lib/python3.10/dist-packages (3.4.2)\n",
            "Requirement already satisfied: pandas in /usr/local/lib/python3.10/dist-packages (1.4.4)\n",
            "Requirement already satisfied: python-dateutil>=2.8.1 in /usr/local/lib/python3.10/dist-packages (from pandas) (2.8.2)\n",
            "Requirement already satisfied: pytz>=2020.1 in /usr/local/lib/python3.10/dist-packages (from pandas) (2024.2)\n",
            "Requirement already satisfied: numpy>=1.21.0 in /usr/local/lib/python3.10/dist-packages (from pandas) (1.24.4)\n",
            "Requirement already satisfied: six>=1.5 in /usr/local/lib/python3.10/dist-packages (from python-dateutil>=2.8.1->pandas) (1.16.0)\n"
          ]
        }
      ]
    },
    {
      "cell_type": "code",
      "source": [
        "# Restart kernel\n",
        "import os\n",
        "os.kill(os.getpid(), 9)"
      ],
      "metadata": {
        "id": "gb2ZmXeky39F"
      },
      "execution_count": null,
      "outputs": []
    },
    {
      "cell_type": "code",
      "source": [
        "import os\n",
        "import numpy as np\n",
        "import math\n",
        "import pandas as pd\n",
        "import matplotlib.pyplot as plt\n",
        "import scanpy as sc\n",
        "\n",
        "sc.settings.verbosity = 0"
      ],
      "metadata": {
        "id": "Vmvnf0txy1tS"
      },
      "execution_count": 2,
      "outputs": []
    },
    {
      "cell_type": "code",
      "source": [
        "import GenKI as gk\n",
        "from GenKI.preprocesing import build_adata\n",
        "from GenKI.dataLoader import DataLoader\n",
        "from GenKI.train import VGAE_trainer\n",
        "from GenKI import utils\n",
        "\n",
        "%load_ext autoreload\n",
        "%autoreload 2"
      ],
      "metadata": {
        "id": "QXZ-934qy1wi"
      },
      "execution_count": 3,
      "outputs": []
    },
    {
      "cell_type": "code",
      "source": [
        "import stringdb\n",
        "import networkx as nx"
      ],
      "metadata": {
        "id": "bd18bGDCy16N"
      },
      "execution_count": 4,
      "outputs": []
    },
    {
      "cell_type": "code",
      "source": [
        "# Libraries for data wrangling on the adata object\n",
        "from scipy.sparse import csr_matrix\n",
        "from scipy.sparse import issparse"
      ],
      "metadata": {
        "id": "_8uOJ4Wyy18i"
      },
      "execution_count": 5,
      "outputs": []
    },
    {
      "cell_type": "code",
      "source": [
        "# Download the DBiT-seq dataset suitable for this workshop\n",
        "!gdown  1D3AIjshsAiIOktmFrvMgqKO1UKiQSPbu\n",
        "\n",
        "# Assemble adata object for single-cell analysis\n",
        "adata = sc.read(\"DBiTseq_UnitedNet.h5ad\")\n",
        "adata"
      ],
      "metadata": {
        "colab": {
          "base_uri": "https://localhost:8080/"
        },
        "id": "L0V-D9PTy1_H",
        "outputId": "4d9a4da6-a917-4e5b-98a2-ad80fa4944e5"
      },
      "execution_count": 6,
      "outputs": [
        {
          "output_type": "stream",
          "name": "stdout",
          "text": [
            "Downloading...\n",
            "From: https://drive.google.com/uc?id=1D3AIjshsAiIOktmFrvMgqKO1UKiQSPbu\n",
            "To: /content/DBiTseq_UnitedNet.h5ad\n",
            "100% 2.36M/2.36M [00:00<00:00, 16.3MB/s]\n"
          ]
        },
        {
          "output_type": "execute_result",
          "data": {
            "text/plain": [
              "AnnData object with n_obs × n_vars = 936 × 568\n",
              "    obs: 'id', 'array_row', 'array_col', 'cell_type', 'batch', 'imagecol', 'imagerow', 'label', 'sample'\n",
              "    var: 'gene_ids-0', 'gene_ids-1'\n",
              "    obsm: 'spatial'"
            ]
          },
          "metadata": {},
          "execution_count": 6
        }
      ]
    },
    {
      "cell_type": "markdown",
      "source": [
        "## KO one gene example: Six2"
      ],
      "metadata": {
        "id": "Gl1es9NpSpZ5"
      }
    },
    {
      "cell_type": "code",
      "source": [
        "# Let's commence with creating a digital KO of Six2 expression in the DBiT-seq mouse embryo dataset.\n",
        "gene_of_interest = \"Six2\"\n",
        "\n",
        "# Verify that the gene of interest is part of the rownames in adata.var\n",
        "if gene_of_interest in adata.var.index:\n",
        "    print(f\"The gene {gene_of_interest} is present in the rownames of adata.var.\")\n",
        "else:\n",
        "    print(f\"The gene {gene_of_interest} is not present in the rownames of adata.var.\")"
      ],
      "metadata": {
        "colab": {
          "base_uri": "https://localhost:8080/"
        },
        "id": "bvGK0Z8Yy2Bv",
        "outputId": "b791a1b4-1996-497b-dd7e-76afb1b462d4"
      },
      "execution_count": 7,
      "outputs": [
        {
          "output_type": "stream",
          "name": "stdout",
          "text": [
            "The gene Six2 is present in the rownames of adata.var.\n"
          ]
        }
      ]
    },
    {
      "cell_type": "code",
      "source": [
        "# adata pre-processing to prepare for input in the GenKI tool\n",
        "adata.layers[\"norm\"] = adata.X.copy()\n",
        "\n",
        "# The adata.X should be normalised-scaled AND in sparse matrix format!\n",
        "if not issparse(adata.X):\n",
        "    sparse_matrix = csr_matrix(adata.X)\n",
        "    adata.X = sparse_matrix\n",
        "    print(\"Converted adata.X to a sparse matrix.\")\n",
        "else:\n",
        "    print(\"adata.X is already a sparse matrix.\")"
      ],
      "metadata": {
        "colab": {
          "base_uri": "https://localhost:8080/"
        },
        "id": "HrWnW2X5y2FA",
        "outputId": "5c6228a3-c52a-4257-8e18-1fc9a07e87d5"
      },
      "execution_count": 8,
      "outputs": [
        {
          "output_type": "stream",
          "name": "stdout",
          "text": [
            "Converted adata.X to a sparse matrix.\n"
          ]
        }
      ]
    },
    {
      "cell_type": "code",
      "source": [
        "# load data\n",
        "\n",
        "data_wrapper =  DataLoader(\n",
        "                adata, # adata object\n",
        "                target_gene = [gene_of_interest], # KO gene name\n",
        "                target_cell = None, # obsname for cell type, if none use all\n",
        "                obs_label = \"ident\", # colname for genes\n",
        "                GRN_file_dir = \"GRNs\", # folder name for GRNs\n",
        "                rebuild_GRN = True, # whether build GRN by pcNet\n",
        "                pcNet_name = \"DBiTseq_example\", # GRN file name\n",
        "                verbose = True, # whether verbose\n",
        "                n_cpus = 8, # multiprocessing\n",
        "                )\n",
        "\n",
        "data_wt = data_wrapper.load_data()\n",
        "data_ko = data_wrapper.load_kodata()"
      ],
      "metadata": {
        "colab": {
          "base_uri": "https://localhost:8080/"
        },
        "id": "9mkBeSxPy2G9",
        "outputId": "0e70605e-a758-4692-be6a-fe4a46b49c3a"
      },
      "execution_count": 9,
      "outputs": [
        {
          "output_type": "stream",
          "name": "stdout",
          "text": [
            "use all the cells (936) in adata\n",
            "build GRN\n"
          ]
        },
        {
          "output_type": "stream",
          "name": "stderr",
          "text": [
            "2024-12-05 15:16:06,035\tINFO worker.py:1821 -- Started a local Ray instance.\n"
          ]
        },
        {
          "output_type": "stream",
          "name": "stdout",
          "text": [
            "ray init, using 8 CPUs\n",
            "execution time of making pcNet: 224.69 s\n",
            "GRN has been built and saved in \"GRNs/DBiTseq_example.npz\"\n",
            "init completed\n",
            "\n"
          ]
        }
      ]
    },
    {
      "cell_type": "code",
      "source": [
        "#Changed the hyperparameters to better adapt to the spatial dataset in hand\n",
        "\n",
        "hyperparams = {\n",
        "    \"epochs\": 300,  # Increased epochs for more training\n",
        "    \"lr\": 5e-2,  # Adjusted learning rate\n",
        "    \"beta\": 5e-4,  # Increased beta for stronger regularization\n",
        "    \"seed\": 8096  # Trying a different seed\n",
        "}\n",
        "\n",
        "\n",
        "log_dir = None\n",
        "\n",
        "sensei = VGAE_trainer(\n",
        "    data_wt,\n",
        "    epochs=hyperparams[\"epochs\"],\n",
        "    lr=hyperparams[\"lr\"],\n",
        "    log_dir=log_dir,\n",
        "    beta=hyperparams[\"beta\"],\n",
        "    seed=hyperparams[\"seed\"],\n",
        "    verbose=False,\n",
        ")"
      ],
      "metadata": {
        "id": "2Igweu0Uy2Jn"
      },
      "execution_count": 10,
      "outputs": []
    },
    {
      "cell_type": "code",
      "source": [
        "# %%timeit\n",
        "sensei.train()"
      ],
      "metadata": {
        "id": "is49c_Gjy2M-"
      },
      "execution_count": 11,
      "outputs": []
    },
    {
      "cell_type": "code",
      "source": [
        "sensei.save_model('model_example_DBiTseq')"
      ],
      "metadata": {
        "colab": {
          "base_uri": "https://localhost:8080/"
        },
        "id": "Rl3eFzISz-sK",
        "outputId": "d612f505-2fc5-4b2e-eebb-50a53d462c52"
      },
      "execution_count": 12,
      "outputs": [
        {
          "output_type": "stream",
          "name": "stdout",
          "text": [
            "save model parameters to model/model_example_DBiTseq.th\n"
          ]
        }
      ]
    },
    {
      "cell_type": "code",
      "source": [
        "# get distance between wt and ko\n",
        "\n",
        "z_mu_wt, z_std_wt = sensei.get_latent_vars(data_wt)\n",
        "z_mu_ko, z_std_ko = sensei.get_latent_vars(data_ko)\n",
        "dis = gk.utils.get_distance(z_mu_ko, z_std_ko, z_mu_wt, z_std_wt, by=\"KL\")\n",
        "print(dis.shape)"
      ],
      "metadata": {
        "colab": {
          "base_uri": "https://localhost:8080/"
        },
        "id": "Xvs6z67vy2PO",
        "outputId": "2d4d81f0-3743-4f98-e114-3943c9286150"
      },
      "execution_count": 13,
      "outputs": [
        {
          "output_type": "stream",
          "name": "stdout",
          "text": [
            "(568,)\n"
          ]
        }
      ]
    },
    {
      "cell_type": "code",
      "source": [
        "# raw ranked gene list\n",
        "\n",
        "res_raw = utils.get_generank(data_wt, dis, rank=True)\n",
        "res_raw.head(10)"
      ],
      "metadata": {
        "colab": {
          "base_uri": "https://localhost:8080/",
          "height": 363
        },
        "id": "8B3rz14-y2RE",
        "outputId": "c5f2358d-8d4c-4af9-a478-1025d4e0fb4e"
      },
      "execution_count": 14,
      "outputs": [
        {
          "output_type": "execute_result",
          "data": {
            "text/plain": [
              "                dis  rank\n",
              "Six2    8423.716324     1\n",
              "Col3a1    16.065773     2\n",
              "Col1a2     8.421597     3\n",
              "Vcan       6.678489     4\n",
              "Gpc3       6.598462     5\n",
              "Lgals1     5.790285     6\n",
              "Fbn2       5.741572     7\n",
              "Rbp1       5.733980     8\n",
              "Col4a1     5.731743     9\n",
              "Cxcl12     5.602060    10"
            ],
            "text/html": [
              "\n",
              "  <div id=\"df-97733d5d-35c2-4e10-bf7d-7f45c06c8a2c\" class=\"colab-df-container\">\n",
              "    <div>\n",
              "<style scoped>\n",
              "    .dataframe tbody tr th:only-of-type {\n",
              "        vertical-align: middle;\n",
              "    }\n",
              "\n",
              "    .dataframe tbody tr th {\n",
              "        vertical-align: top;\n",
              "    }\n",
              "\n",
              "    .dataframe thead th {\n",
              "        text-align: right;\n",
              "    }\n",
              "</style>\n",
              "<table border=\"1\" class=\"dataframe\">\n",
              "  <thead>\n",
              "    <tr style=\"text-align: right;\">\n",
              "      <th></th>\n",
              "      <th>dis</th>\n",
              "      <th>rank</th>\n",
              "    </tr>\n",
              "  </thead>\n",
              "  <tbody>\n",
              "    <tr>\n",
              "      <th>Six2</th>\n",
              "      <td>8423.716324</td>\n",
              "      <td>1</td>\n",
              "    </tr>\n",
              "    <tr>\n",
              "      <th>Col3a1</th>\n",
              "      <td>16.065773</td>\n",
              "      <td>2</td>\n",
              "    </tr>\n",
              "    <tr>\n",
              "      <th>Col1a2</th>\n",
              "      <td>8.421597</td>\n",
              "      <td>3</td>\n",
              "    </tr>\n",
              "    <tr>\n",
              "      <th>Vcan</th>\n",
              "      <td>6.678489</td>\n",
              "      <td>4</td>\n",
              "    </tr>\n",
              "    <tr>\n",
              "      <th>Gpc3</th>\n",
              "      <td>6.598462</td>\n",
              "      <td>5</td>\n",
              "    </tr>\n",
              "    <tr>\n",
              "      <th>Lgals1</th>\n",
              "      <td>5.790285</td>\n",
              "      <td>6</td>\n",
              "    </tr>\n",
              "    <tr>\n",
              "      <th>Fbn2</th>\n",
              "      <td>5.741572</td>\n",
              "      <td>7</td>\n",
              "    </tr>\n",
              "    <tr>\n",
              "      <th>Rbp1</th>\n",
              "      <td>5.733980</td>\n",
              "      <td>8</td>\n",
              "    </tr>\n",
              "    <tr>\n",
              "      <th>Col4a1</th>\n",
              "      <td>5.731743</td>\n",
              "      <td>9</td>\n",
              "    </tr>\n",
              "    <tr>\n",
              "      <th>Cxcl12</th>\n",
              "      <td>5.602060</td>\n",
              "      <td>10</td>\n",
              "    </tr>\n",
              "  </tbody>\n",
              "</table>\n",
              "</div>\n",
              "    <div class=\"colab-df-buttons\">\n",
              "\n",
              "  <div class=\"colab-df-container\">\n",
              "    <button class=\"colab-df-convert\" onclick=\"convertToInteractive('df-97733d5d-35c2-4e10-bf7d-7f45c06c8a2c')\"\n",
              "            title=\"Convert this dataframe to an interactive table.\"\n",
              "            style=\"display:none;\">\n",
              "\n",
              "  <svg xmlns=\"http://www.w3.org/2000/svg\" height=\"24px\" viewBox=\"0 -960 960 960\">\n",
              "    <path d=\"M120-120v-720h720v720H120Zm60-500h600v-160H180v160Zm220 220h160v-160H400v160Zm0 220h160v-160H400v160ZM180-400h160v-160H180v160Zm440 0h160v-160H620v160ZM180-180h160v-160H180v160Zm440 0h160v-160H620v160Z\"/>\n",
              "  </svg>\n",
              "    </button>\n",
              "\n",
              "  <style>\n",
              "    .colab-df-container {\n",
              "      display:flex;\n",
              "      gap: 12px;\n",
              "    }\n",
              "\n",
              "    .colab-df-convert {\n",
              "      background-color: #E8F0FE;\n",
              "      border: none;\n",
              "      border-radius: 50%;\n",
              "      cursor: pointer;\n",
              "      display: none;\n",
              "      fill: #1967D2;\n",
              "      height: 32px;\n",
              "      padding: 0 0 0 0;\n",
              "      width: 32px;\n",
              "    }\n",
              "\n",
              "    .colab-df-convert:hover {\n",
              "      background-color: #E2EBFA;\n",
              "      box-shadow: 0px 1px 2px rgba(60, 64, 67, 0.3), 0px 1px 3px 1px rgba(60, 64, 67, 0.15);\n",
              "      fill: #174EA6;\n",
              "    }\n",
              "\n",
              "    .colab-df-buttons div {\n",
              "      margin-bottom: 4px;\n",
              "    }\n",
              "\n",
              "    [theme=dark] .colab-df-convert {\n",
              "      background-color: #3B4455;\n",
              "      fill: #D2E3FC;\n",
              "    }\n",
              "\n",
              "    [theme=dark] .colab-df-convert:hover {\n",
              "      background-color: #434B5C;\n",
              "      box-shadow: 0px 1px 3px 1px rgba(0, 0, 0, 0.15);\n",
              "      filter: drop-shadow(0px 1px 2px rgba(0, 0, 0, 0.3));\n",
              "      fill: #FFFFFF;\n",
              "    }\n",
              "  </style>\n",
              "\n",
              "    <script>\n",
              "      const buttonEl =\n",
              "        document.querySelector('#df-97733d5d-35c2-4e10-bf7d-7f45c06c8a2c button.colab-df-convert');\n",
              "      buttonEl.style.display =\n",
              "        google.colab.kernel.accessAllowed ? 'block' : 'none';\n",
              "\n",
              "      async function convertToInteractive(key) {\n",
              "        const element = document.querySelector('#df-97733d5d-35c2-4e10-bf7d-7f45c06c8a2c');\n",
              "        const dataTable =\n",
              "          await google.colab.kernel.invokeFunction('convertToInteractive',\n",
              "                                                    [key], {});\n",
              "        if (!dataTable) return;\n",
              "\n",
              "        const docLinkHtml = 'Like what you see? Visit the ' +\n",
              "          '<a target=\"_blank\" href=https://colab.research.google.com/notebooks/data_table.ipynb>data table notebook</a>'\n",
              "          + ' to learn more about interactive tables.';\n",
              "        element.innerHTML = '';\n",
              "        dataTable['output_type'] = 'display_data';\n",
              "        await google.colab.output.renderOutput(dataTable, element);\n",
              "        const docLink = document.createElement('div');\n",
              "        docLink.innerHTML = docLinkHtml;\n",
              "        element.appendChild(docLink);\n",
              "      }\n",
              "    </script>\n",
              "  </div>\n",
              "\n",
              "\n",
              "<div id=\"df-ba159641-51a3-4a11-8344-1a6d5b888a7a\">\n",
              "  <button class=\"colab-df-quickchart\" onclick=\"quickchart('df-ba159641-51a3-4a11-8344-1a6d5b888a7a')\"\n",
              "            title=\"Suggest charts\"\n",
              "            style=\"display:none;\">\n",
              "\n",
              "<svg xmlns=\"http://www.w3.org/2000/svg\" height=\"24px\"viewBox=\"0 0 24 24\"\n",
              "     width=\"24px\">\n",
              "    <g>\n",
              "        <path d=\"M19 3H5c-1.1 0-2 .9-2 2v14c0 1.1.9 2 2 2h14c1.1 0 2-.9 2-2V5c0-1.1-.9-2-2-2zM9 17H7v-7h2v7zm4 0h-2V7h2v10zm4 0h-2v-4h2v4z\"/>\n",
              "    </g>\n",
              "</svg>\n",
              "  </button>\n",
              "\n",
              "<style>\n",
              "  .colab-df-quickchart {\n",
              "      --bg-color: #E8F0FE;\n",
              "      --fill-color: #1967D2;\n",
              "      --hover-bg-color: #E2EBFA;\n",
              "      --hover-fill-color: #174EA6;\n",
              "      --disabled-fill-color: #AAA;\n",
              "      --disabled-bg-color: #DDD;\n",
              "  }\n",
              "\n",
              "  [theme=dark] .colab-df-quickchart {\n",
              "      --bg-color: #3B4455;\n",
              "      --fill-color: #D2E3FC;\n",
              "      --hover-bg-color: #434B5C;\n",
              "      --hover-fill-color: #FFFFFF;\n",
              "      --disabled-bg-color: #3B4455;\n",
              "      --disabled-fill-color: #666;\n",
              "  }\n",
              "\n",
              "  .colab-df-quickchart {\n",
              "    background-color: var(--bg-color);\n",
              "    border: none;\n",
              "    border-radius: 50%;\n",
              "    cursor: pointer;\n",
              "    display: none;\n",
              "    fill: var(--fill-color);\n",
              "    height: 32px;\n",
              "    padding: 0;\n",
              "    width: 32px;\n",
              "  }\n",
              "\n",
              "  .colab-df-quickchart:hover {\n",
              "    background-color: var(--hover-bg-color);\n",
              "    box-shadow: 0 1px 2px rgba(60, 64, 67, 0.3), 0 1px 3px 1px rgba(60, 64, 67, 0.15);\n",
              "    fill: var(--button-hover-fill-color);\n",
              "  }\n",
              "\n",
              "  .colab-df-quickchart-complete:disabled,\n",
              "  .colab-df-quickchart-complete:disabled:hover {\n",
              "    background-color: var(--disabled-bg-color);\n",
              "    fill: var(--disabled-fill-color);\n",
              "    box-shadow: none;\n",
              "  }\n",
              "\n",
              "  .colab-df-spinner {\n",
              "    border: 2px solid var(--fill-color);\n",
              "    border-color: transparent;\n",
              "    border-bottom-color: var(--fill-color);\n",
              "    animation:\n",
              "      spin 1s steps(1) infinite;\n",
              "  }\n",
              "\n",
              "  @keyframes spin {\n",
              "    0% {\n",
              "      border-color: transparent;\n",
              "      border-bottom-color: var(--fill-color);\n",
              "      border-left-color: var(--fill-color);\n",
              "    }\n",
              "    20% {\n",
              "      border-color: transparent;\n",
              "      border-left-color: var(--fill-color);\n",
              "      border-top-color: var(--fill-color);\n",
              "    }\n",
              "    30% {\n",
              "      border-color: transparent;\n",
              "      border-left-color: var(--fill-color);\n",
              "      border-top-color: var(--fill-color);\n",
              "      border-right-color: var(--fill-color);\n",
              "    }\n",
              "    40% {\n",
              "      border-color: transparent;\n",
              "      border-right-color: var(--fill-color);\n",
              "      border-top-color: var(--fill-color);\n",
              "    }\n",
              "    60% {\n",
              "      border-color: transparent;\n",
              "      border-right-color: var(--fill-color);\n",
              "    }\n",
              "    80% {\n",
              "      border-color: transparent;\n",
              "      border-right-color: var(--fill-color);\n",
              "      border-bottom-color: var(--fill-color);\n",
              "    }\n",
              "    90% {\n",
              "      border-color: transparent;\n",
              "      border-bottom-color: var(--fill-color);\n",
              "    }\n",
              "  }\n",
              "</style>\n",
              "\n",
              "  <script>\n",
              "    async function quickchart(key) {\n",
              "      const quickchartButtonEl =\n",
              "        document.querySelector('#' + key + ' button');\n",
              "      quickchartButtonEl.disabled = true;  // To prevent multiple clicks.\n",
              "      quickchartButtonEl.classList.add('colab-df-spinner');\n",
              "      try {\n",
              "        const charts = await google.colab.kernel.invokeFunction(\n",
              "            'suggestCharts', [key], {});\n",
              "      } catch (error) {\n",
              "        console.error('Error during call to suggestCharts:', error);\n",
              "      }\n",
              "      quickchartButtonEl.classList.remove('colab-df-spinner');\n",
              "      quickchartButtonEl.classList.add('colab-df-quickchart-complete');\n",
              "    }\n",
              "    (() => {\n",
              "      let quickchartButtonEl =\n",
              "        document.querySelector('#df-ba159641-51a3-4a11-8344-1a6d5b888a7a button');\n",
              "      quickchartButtonEl.style.display =\n",
              "        google.colab.kernel.accessAllowed ? 'block' : 'none';\n",
              "    })();\n",
              "  </script>\n",
              "</div>\n",
              "\n",
              "    </div>\n",
              "  </div>\n"
            ],
            "application/vnd.google.colaboratory.intrinsic+json": {
              "type": "dataframe",
              "variable_name": "res_raw",
              "summary": "{\n  \"name\": \"res_raw\",\n  \"rows\": 568,\n  \"fields\": [\n    {\n      \"column\": \"dis\",\n      \"properties\": {\n        \"dtype\": \"number\",\n        \"std\": 353.438706902679,\n        \"min\": -1.1102230246251565e-16,\n        \"max\": 8423.716323792713,\n        \"num_unique_values\": 537,\n        \"samples\": [\n          0.00013985118788517603,\n          0.5013951342173457,\n          0.00616295003927414\n        ],\n        \"semantic_type\": \"\",\n        \"description\": \"\"\n      }\n    },\n    {\n      \"column\": \"rank\",\n      \"properties\": {\n        \"dtype\": \"number\",\n        \"std\": 164,\n        \"min\": 1,\n        \"max\": 568,\n        \"num_unique_values\": 568,\n        \"samples\": [\n          219,\n          80,\n          105\n        ],\n        \"semantic_type\": \"\",\n        \"description\": \"\"\n      }\n    }\n  ]\n}"
            }
          },
          "metadata": {},
          "execution_count": 14
        }
      ]
    },
    {
      "cell_type": "markdown",
      "source": [
        "# Filter the uncharacterised genes in adata\n"
      ],
      "metadata": {
        "id": "TkJGj9H-dgeF"
      }
    },
    {
      "cell_type": "code",
      "source": [
        "import re\n",
        "\n",
        "# Get the list of gene names\n",
        "gene_names = adata.var.index.tolist()\n",
        "\n",
        "# Define a regex pattern to match gene names that end with 'Rik'\n",
        "pattern = r'.*Rik$'\n",
        "\n",
        "# Identify genes to filter out\n",
        "genes_to_filter = [gene for gene in gene_names if re.match(pattern, gene)]\n",
        "\n",
        "print(f\"Number of genes to filter out: {len(genes_to_filter)}\")\n",
        "print(\"Genes to filter out:\")\n",
        "print(genes_to_filter)\n",
        "\n",
        "# Now filter the adata object to exclude these genes\n",
        "adata_filtered = adata[:, ~adata.var.index.isin(genes_to_filter)].copy()\n",
        "\n",
        "print(f\"Number of genes after filtering: {adata_filtered.n_vars}\")"
      ],
      "metadata": {
        "colab": {
          "base_uri": "https://localhost:8080/"
        },
        "id": "klLyGkPkdqa5",
        "outputId": "480bf6a0-0bea-4dfa-f8c8-7881a9d82853"
      },
      "execution_count": 15,
      "outputs": [
        {
          "output_type": "stream",
          "name": "stdout",
          "text": [
            "Number of genes to filter out: 6\n",
            "Genes to filter out:\n",
            "['1810037I17Rik', '2410002F23Rik', '5730559C18Rik', 'C130093G08Rik', 'C530008M17Rik', 'D930015E06Rik']\n",
            "Number of genes after filtering: 562\n"
          ]
        }
      ]
    },
    {
      "cell_type": "markdown",
      "source": [
        "# SHAP value"
      ],
      "metadata": {
        "id": "4xZFGLbYNlc4"
      }
    },
    {
      "cell_type": "code",
      "source": [
        "# Loop the 10 responsive genes from Six2 KO as a example\n",
        "\n",
        "import pandas as pd\n",
        "\n",
        "# Load the data from CSV file\n",
        "file_path = '/content/feature_feature_importance.csv'  # Replace with your file path\n",
        "data = pd.read_csv(file_path)\n",
        "\n",
        "# Automatically generate the list of genes of interest from the previous GenKI results (Six2 example)\n",
        "# 'res_raw' is the DataFrame with genes ranked by 'dis' and 'rank'\n",
        "N = 10\n",
        "genki_list = res_raw.head(N).index.tolist()\n",
        "\n",
        "print(\"Genes of interest:\", genki_list)\n",
        "\n",
        "# Filter data for the genes of interest\n",
        "filtered_data = data[data['Source'].isin(genki_list)]\n",
        "\n",
        "# Separate data for RNA -> Niche and RNA -> Protein directions\n",
        "rna_niche_data = filtered_data[filtered_data['Direction'] == 'RNA -> Niche']\n",
        "rna_protein_data = filtered_data[filtered_data['Direction'] == 'RNA -> Protein']\n",
        "\n",
        "# Find the top 3 unique RNA -> Niche and RNA -> Protein interactions with the highest 'Value'\n",
        "top_rna_niche = (\n",
        "    rna_niche_data\n",
        "    .sort_values(by='Value', ascending=False)\n",
        "    .drop_duplicates(subset=['Source', 'Target'])\n",
        "    .groupby('Source')\n",
        "    .head(3)\n",
        ")\n",
        "\n",
        "top_rna_protein = (\n",
        "    rna_protein_data\n",
        "    .sort_values(by='Value', ascending=False)\n",
        "    .drop_duplicates(subset=['Source', 'Target'])\n",
        "    .groupby('Source')\n",
        "    .head(3)\n",
        ")\n",
        "\n",
        "# Identify cases where the 'Target' value is the same as the 'Source' value\n",
        "rna_protein_duplicates = top_rna_protein[top_rna_protein['Target'] == top_rna_protein['Source']]\n",
        "rna_niche_duplicates = top_rna_niche[top_rna_niche['Target'] == top_rna_niche['Source']]\n",
        "\n",
        "# Remove duplicate entries from the original top lists\n",
        "top_rna_protein_cleaned = top_rna_protein[~(top_rna_protein['Target'] == top_rna_protein['Source'])]\n",
        "top_rna_niche_cleaned = top_rna_niche[~(top_rna_niche['Target'] == top_rna_niche['Source'])]\n",
        "\n",
        "# Find the next highest entries for those with matching 'Target' and 'Source'\n",
        "next_rna_protein = (\n",
        "    rna_protein_data\n",
        "    .loc[~rna_protein_data.index.isin(rna_protein_duplicates.index)]\n",
        "    .sort_values(by='Value', ascending=False)\n",
        ")\n",
        "\n",
        "next_rna_protein_add = (\n",
        "    next_rna_protein\n",
        "    .groupby('Source')\n",
        "    .apply(lambda x: x[~x['Target'].isin(top_rna_protein_cleaned['Target'])].head(1))\n",
        "    .reset_index(drop=True)\n",
        ")\n",
        "\n",
        "next_rna_niche = (\n",
        "    rna_niche_data\n",
        "    .loc[~rna_niche_data.index.isin(rna_niche_duplicates.index)]\n",
        "    .sort_values(by='Value', ascending=False)\n",
        ")\n",
        "\n",
        "next_rna_niche_add = (\n",
        "    next_rna_niche\n",
        "    .groupby('Source')\n",
        "    .apply(lambda x: x[~x['Target'].isin(top_rna_niche_cleaned['Target'])].head(1))\n",
        "    .reset_index(drop=True)\n",
        ")\n",
        "\n",
        "# Combine the original top lists with the added entries\n",
        "final_top_rna_protein = (\n",
        "    pd.concat([top_rna_protein_cleaned, next_rna_protein_add])\n",
        "    .sort_values(by=['Source', 'Value'], ascending=[True, False])\n",
        "    .groupby('Source')\n",
        "    .head(3)\n",
        ")\n",
        "\n",
        "final_top_rna_niche = (\n",
        "    pd.concat([top_rna_niche_cleaned, next_rna_niche_add])\n",
        "    .sort_values(by=['Source', 'Value'], ascending=[True, False])\n",
        "    .groupby('Source')\n",
        "    .head(3)\n",
        ")\n",
        "\n",
        "# Combine all results into a single DataFrame\n",
        "combined_df = pd.concat([final_top_rna_protein, final_top_rna_niche])\n",
        "\n",
        "# Save the results to a single sheet in an Excel file\n",
        "output_path = './Top_RNA_Niche_Protein_Interactions_Six2_Sheet.xlsx'  # Replace with your desired output path\n",
        "\n",
        "with pd.ExcelWriter(output_path) as writer:\n",
        "    combined_df.to_excel(writer, sheet_name='Top Interactions', index=False)\n",
        "\n",
        "print(f\"Results have been saved to {output_path}\")"
      ],
      "metadata": {
        "colab": {
          "base_uri": "https://localhost:8080/"
        },
        "id": "XlcOK--C4qPS",
        "outputId": "2272607f-3bf8-4841-f77c-f39139a7d2ea"
      },
      "execution_count": 16,
      "outputs": [
        {
          "output_type": "stream",
          "name": "stdout",
          "text": [
            "Genes of interest: ['Six2', 'Col3a1', 'Col1a2', 'Vcan', 'Gpc3', 'Lgals1', 'Fbn2', 'Rbp1', 'Col4a1', 'Cxcl12']\n",
            "Results have been saved to ./Top_RNA_Niche_Protein_Interactions_Six2_Sheet.xlsx\n"
          ]
        }
      ]
    },
    {
      "cell_type": "code",
      "source": [
        "filtered_data[\"Source\"].unique()"
      ],
      "metadata": {
        "id": "J6vqf8J8y2ZC",
        "colab": {
          "base_uri": "https://localhost:8080/"
        },
        "outputId": "82c69e2a-5bd9-4116-88d7-635093ef563c"
      },
      "execution_count": null,
      "outputs": [
        {
          "output_type": "execute_result",
          "data": {
            "text/plain": [
              "array(['Six2', 'Vcan', 'Fbn2'], dtype=object)"
            ]
          },
          "metadata": {},
          "execution_count": 18
        }
      ]
    },
    {
      "cell_type": "markdown",
      "source": [
        "# Loop KO the first three genes and get their Top_RNA_Niche_Protein_Interactions"
      ],
      "metadata": {
        "id": "g5s_MGPi6A3E"
      }
    },
    {
      "cell_type": "code",
      "source": [
        "import pandas as pd\n",
        "import os\n",
        "\n",
        "# Create a directory to save the top interactions if it doesn't exist\n",
        "os.makedirs('Top_Interactions', exist_ok=True)\n",
        "\n",
        "# Get the first 3 genes in adata_filtered.var.index\n",
        "genes_of_interest = adata_filtered.var.index[:3].tolist()\n",
        "print(f\"Genes to knock out: {genes_of_interest}\")\n",
        "\n",
        "# Select a dummy gene not in genes_of_interest\n",
        "all_genes = list(adata_filtered.var.index)\n",
        "dummy_gene = next(g for g in all_genes if g not in genes_of_interest)\n",
        "print(f\"Using dummy gene for WT data: {dummy_gene}\")\n",
        "\n",
        "# Initialize DataLoader for WT data\n",
        "data_wrapper_wt = DataLoader(\n",
        "    adata_filtered,\n",
        "    target_gene=[dummy_gene],  # Use the dummy gene\n",
        "    target_cell=None,\n",
        "    obs_label=\"cell_type\",  # Adjust if necessary\n",
        "    GRN_file_dir=\"GRNs\",\n",
        "    rebuild_GRN=True,  # Build the GRN\n",
        "    pcNet_name=\"DBiTseq_example\",\n",
        "    verbose=False,  # Set to False to reduce output\n",
        "    n_cpus=8,\n",
        ")\n",
        "\n",
        "# Load WT data (GRN will be built here)\n",
        "data_wt = data_wrapper_wt.load_data()\n",
        "\n",
        "# Set hyperparameters\n",
        "hyperparams = {\n",
        "    \"epochs\": 300,\n",
        "    \"lr\": 5e-2,\n",
        "    \"beta\": 5e-4,\n",
        "    \"seed\": 8096,\n",
        "}\n",
        "\n",
        "# Train the model on WT data\n",
        "sensei = VGAE_trainer(\n",
        "    data_wt,\n",
        "    epochs=hyperparams[\"epochs\"],\n",
        "    lr=hyperparams[\"lr\"],\n",
        "    beta=hyperparams[\"beta\"],\n",
        "    seed=hyperparams[\"seed\"],\n",
        "    verbose=False,  # Set to False to reduce output\n",
        ")\n",
        "\n",
        "sensei.train()\n",
        "\n",
        "# Get latent variables for WT data\n",
        "z_mu_wt, z_std_wt = sensei.get_latent_vars(data_wt)\n",
        "\n",
        "# Initialize a list to store combined results\n",
        "combined_results = []\n",
        "\n",
        "for gene_of_interest in genes_of_interest:\n",
        "    print(f\"\\nProcessing gene: {gene_of_interest}\")\n",
        "\n",
        "    # Initialize DataLoader for KO data\n",
        "    data_wrapper_ko = DataLoader(\n",
        "        adata_filtered,\n",
        "        target_gene=[gene_of_interest],\n",
        "        target_cell=None,\n",
        "        obs_label=\"cell_type\",\n",
        "        GRN_file_dir=\"GRNs\",\n",
        "        rebuild_GRN=False,  # Use the existing GRN\n",
        "        pcNet_name=\"DBiTseq_example\",\n",
        "        verbose=False,  # Set to False to reduce output\n",
        "        n_cpus=8,\n",
        "    )\n",
        "\n",
        "    # Load KO data for the gene\n",
        "    data_ko = data_wrapper_ko.load_kodata()\n",
        "\n",
        "    # Get latent variables for KO data\n",
        "    z_mu_ko, z_std_ko = sensei.get_latent_vars(data_ko)\n",
        "\n",
        "    # Calculate the distance between WT and KO data\n",
        "    dis = gk.utils.get_distance(z_mu_ko, z_std_ko, z_mu_wt, z_std_wt, by=\"KL\")\n",
        "\n",
        "    # Get the ranked list of responsive genes\n",
        "    res_raw = utils.get_generank(data_wt, dis, rank=True)\n",
        "\n",
        "    # Store the top 10 responsive genes\n",
        "    top_genes = res_raw.head(10)\n",
        "    print(f\"Top 10 KO Responsive Genes for {gene_of_interest}:\\n{top_genes}\")\n",
        "\n",
        "    # Extract the top genes for the current KO gene\n",
        "    genki_list = top_genes.index.tolist()\n",
        "\n",
        "    # Load the data from CSV file\n",
        "    file_path = '/content/feature_feature_importance.csv'  # Replace with your file path\n",
        "    data = pd.read_csv(file_path)\n",
        "\n",
        "    # Filter data for the genes of interest\n",
        "    filtered_data = data[data['Source'].isin(genki_list)]\n",
        "\n",
        "    # Separate data for RNA -> Niche and RNA -> Protein directions\n",
        "    rna_niche_data = filtered_data[filtered_data['Direction'] == 'RNA -> Niche']\n",
        "    rna_protein_data = filtered_data[filtered_data['Direction'] == 'RNA -> Protein']\n",
        "\n",
        "    # Find the top 3 unique RNA -> Niche and RNA -> Protein interactions with the highest 'Value'\n",
        "    top_rna_niche = (\n",
        "        rna_niche_data\n",
        "        .sort_values(by='Value', ascending=False)\n",
        "        .drop_duplicates(subset=['Source', 'Target'])\n",
        "        .groupby('Source')\n",
        "        .head(3)\n",
        "    )\n",
        "\n",
        "    top_rna_protein = (\n",
        "        rna_protein_data\n",
        "        .sort_values(by='Value', ascending=False)\n",
        "        .drop_duplicates(subset=['Source', 'Target'])\n",
        "        .groupby('Source')\n",
        "        .head(3)\n",
        "    )\n",
        "\n",
        "    # Identify cases where the 'Target' value is the same as the 'Source' value\n",
        "    rna_protein_duplicates = top_rna_protein[top_rna_protein['Target'] == top_rna_protein['Source']]\n",
        "    rna_niche_duplicates = top_rna_niche[top_rna_niche['Target'] == top_rna_niche['Source']]\n",
        "\n",
        "    # Remove duplicate entries from the original top lists\n",
        "    top_rna_protein_cleaned = top_rna_protein[~(top_rna_protein['Target'] == top_rna_protein['Source'])]\n",
        "    top_rna_niche_cleaned = top_rna_niche[~(top_rna_niche['Target'] == top_rna_niche['Source'])]\n",
        "\n",
        "    # Find the next highest entries for those with matching 'Target' and 'Source'\n",
        "    next_rna_protein = (\n",
        "        rna_protein_data\n",
        "        .loc[~rna_protein_data.index.isin(rna_protein_duplicates.index)]\n",
        "        .sort_values(by='Value', ascending=False)\n",
        "    )\n",
        "\n",
        "    next_rna_protein_add = (\n",
        "        next_rna_protein\n",
        "        .groupby('Source')\n",
        "        .apply(lambda x: x[~x['Target'].isin(top_rna_protein_cleaned['Target'])].head(1))\n",
        "        .reset_index(drop=True)\n",
        "    )\n",
        "\n",
        "    next_rna_niche = (\n",
        "        rna_niche_data\n",
        "        .loc[~rna_niche_data.index.isin(rna_niche_duplicates.index)]\n",
        "        .sort_values(by='Value', ascending=False)\n",
        "    )\n",
        "\n",
        "    next_rna_niche_add = (\n",
        "        next_rna_niche\n",
        "        .groupby('Source')\n",
        "        .apply(lambda x: x[~x['Target'].isin(top_rna_niche_cleaned['Target'])].head(1))\n",
        "        .reset_index(drop=True)\n",
        "    )\n",
        "\n",
        "    # Combine the original top lists with the added entries\n",
        "    final_top_rna_protein = (\n",
        "        pd.concat([top_rna_protein_cleaned, next_rna_protein_add])\n",
        "        .sort_values(by=['Source', 'Value'], ascending=[True, False])\n",
        "        .groupby('Source')\n",
        "        .head(3)\n",
        "    )\n",
        "\n",
        "    final_top_rna_niche = (\n",
        "        pd.concat([top_rna_niche_cleaned, next_rna_niche_add])\n",
        "        .sort_values(by=['Source', 'Value'], ascending=[True, False])\n",
        "        .groupby('Source')\n",
        "        .head(3)\n",
        "    )\n",
        "\n",
        "    # Combine all results into a single DataFrame\n",
        "    combined_df = pd.concat([final_top_rna_protein, final_top_rna_niche])\n",
        "\n",
        "    # Add a column to indicate the KO gene\n",
        "    combined_df['KO_Gene'] = gene_of_interest\n",
        "\n",
        "    # Append to the list\n",
        "    combined_results.append(combined_df)\n",
        "\n",
        "# Concatenate all results\n",
        "all_combined_df = pd.concat(combined_results)\n",
        "\n",
        "# Save the combined results to a single sheet in an Excel file\n",
        "output_path = './Top_RNA_Niche_Protein_Interactions_first3_Sheet.xlsx'\n",
        "\n",
        "with pd.ExcelWriter(output_path) as writer:\n",
        "    all_combined_df.to_excel(writer, sheet_name='Top Interactions', index=False)\n",
        "\n",
        "print(f\"\\nResults have been saved to {output_path}\")"
      ],
      "metadata": {
        "id": "PO-H8dnRy2d0",
        "colab": {
          "base_uri": "https://localhost:8080/"
        },
        "outputId": "e667158c-b0dc-4cae-e347-366dffbd7c6c"
      },
      "execution_count": 17,
      "outputs": [
        {
          "output_type": "stream",
          "name": "stdout",
          "text": [
            "Genes to knock out: ['Aagab', 'Aars2', 'Acat1']\n",
            "Using dummy gene for WT data: Acta2\n"
          ]
        },
        {
          "output_type": "stream",
          "name": "stderr",
          "text": [
            "2024-12-05 15:22:36,507\tINFO worker.py:1821 -- Started a local Ray instance.\n"
          ]
        },
        {
          "output_type": "stream",
          "name": "stdout",
          "text": [
            "ray init, using 8 CPUs\n",
            "\n",
            "Processing gene: Aagab\n",
            "Top 10 KO Responsive Genes for Aagab:\n",
            "             dis  rank\n",
            "Pak3    8.384550     1\n",
            "Aagab   0.971121     2\n",
            "Lhx2    0.002852     3\n",
            "Ptprz1  0.002830     4\n",
            "Foxg1   0.002344     5\n",
            "Ednrb   0.002206     6\n",
            "Glra1   0.002037     7\n",
            "Nr2e1   0.001805     8\n",
            "Col3a1  0.001749     9\n",
            "Hoxa5   0.001715    10\n",
            "\n",
            "Processing gene: Aars2\n",
            "Top 10 KO Responsive Genes for Aars2:\n",
            "             dis  rank\n",
            "Aars2   0.882645     1\n",
            "Pds5a   0.000000     2\n",
            "Pcm1    0.000000     3\n",
            "Pdgfa   0.000000     4\n",
            "Pdhb    0.000000     5\n",
            "Pdlim3  0.000000     6\n",
            "Pdlim7  0.000000     7\n",
            "Pdpn    0.000000     8\n",
            "Phf21b  0.000000     9\n",
            "Plcd1   0.000000    10\n",
            "\n",
            "Processing gene: Acat1\n",
            "Top 10 KO Responsive Genes for Acat1:\n",
            "             dis  rank\n",
            "Acat1   0.315872     1\n",
            "Aagab   0.000000     2\n",
            "Pds5a   0.000000     3\n",
            "Pcm1    0.000000     4\n",
            "Pdgfa   0.000000     5\n",
            "Pdhb    0.000000     6\n",
            "Pdlim3  0.000000     7\n",
            "Pdlim7  0.000000     8\n",
            "Pdpn    0.000000     9\n",
            "Phf21b  0.000000    10\n",
            "\n",
            "Results have been saved to ./Top_RNA_Niche_Protein_Interactions_first3_Sheet.xlsx\n"
          ]
        }
      ]
    },
    {
      "cell_type": "code",
      "source": [
        "os.makedirs('Top10_Responsive_Genes', exist_ok=True)\n",
        "\n",
        "for gene_of_interest in genes_of_interest:\n",
        "  top_genes_path = f'Top10_Responsive_Genes/Top10_Responsive_Genes_{gene_of_interest}.csv'\n",
        "  top_genes.to_csv(top_genes_path)\n",
        "  print(f\"Top 10 responsive genes for {gene_of_interest} saved to {top_genes_path}\")"
      ],
      "metadata": {
        "id": "y2IlUxiRy2az",
        "colab": {
          "base_uri": "https://localhost:8080/"
        },
        "outputId": "9a0007c5-7440-4bc3-94f9-ea69efd2fcb5"
      },
      "execution_count": 20,
      "outputs": [
        {
          "output_type": "stream",
          "name": "stdout",
          "text": [
            "Top 10 responsive genes for Aagab saved to Top10_Responsive_Genes/Top10_Responsive_Genes_Aagab.csv\n",
            "Top 10 responsive genes for Aars2 saved to Top10_Responsive_Genes/Top10_Responsive_Genes_Aars2.csv\n",
            "Top 10 responsive genes for Acat1 saved to Top10_Responsive_Genes/Top10_Responsive_Genes_Acat1.csv\n"
          ]
        }
      ]
    },
    {
      "cell_type": "markdown",
      "source": [
        "# Make the python list combine with Protein and KO res Genes\n"
      ],
      "metadata": {
        "id": "xgcuVEEedsyo"
      }
    },
    {
      "cell_type": "code",
      "source": [
        "import pandas as pd\n",
        "import os\n",
        "\n",
        "interactions_df = pd.read_excel('Top_RNA_Niche_Protein_Interactions_first3_Sheet.xlsx', sheet_name='Top Interactions')\n",
        "targets = interactions_df['Target'].tolist()\n",
        "print(f\"Extracted {len(targets)} targets from the Excel file.\")\n",
        "\n",
        "genes_of_interest = adata_filtered.var.index[:3].tolist()\n",
        "print(f\"Genes of interest: {genes_of_interest}\")\n",
        "\n",
        "all_responsive_genes = []\n",
        "\n",
        "for gene_of_interest in genes_of_interest:\n",
        "    file_name = f'Top10_Responsive_Genes/Top10_Responsive_Genes_{gene_of_interest}.csv'\n",
        "    if os.path.exists(file_name):\n",
        "        df_top_genes = pd.read_csv(file_name, index_col=0)\n",
        "        responsive_genes = df_top_genes.index.tolist()\n",
        "        all_responsive_genes.extend(responsive_genes)\n",
        "        print(f\"Added {len(responsive_genes)} responsive genes from {file_name}.\")\n",
        "    else:\n",
        "        print(f\"File {file_name} does not exist.\")\n",
        "\n",
        "combined_list = targets + all_responsive_genes\n",
        "print(f\"Total combined genes before removing duplicates: {len(combined_list)}.\")\n",
        "\n",
        "# Remove duplicates\n",
        "combined_list = list(set(combined_list))\n",
        "print(f\"Total combined genes after removing duplicates: {len(combined_list)}.\")\n",
        "\n",
        "# Save it to a file\n",
        "output_file = 'Combined_Genes_List.txt'\n",
        "with open(output_file, 'w') as f:\n",
        "    for gene in combined_list:\n",
        "        f.write(f\"{gene}\\n\")\n",
        "print(f\"Combined list saved to {output_file}.\")"
      ],
      "metadata": {
        "colab": {
          "base_uri": "https://localhost:8080/"
        },
        "id": "9qHAQNWjtuRJ",
        "outputId": "8fe31ddd-1d19-44c9-a9c1-f8c25f70bb6f"
      },
      "execution_count": 29,
      "outputs": [
        {
          "output_type": "stream",
          "name": "stdout",
          "text": [
            "Extracted 72 targets from the Excel file.\n",
            "Genes of interest: ['Aagab', 'Aars2', 'Acat1']\n",
            "Added 10 responsive genes from Top10_Responsive_Genes/Top10_Responsive_Genes_Aagab.csv.\n",
            "Added 10 responsive genes from Top10_Responsive_Genes/Top10_Responsive_Genes_Aars2.csv.\n",
            "Added 10 responsive genes from Top10_Responsive_Genes/Top10_Responsive_Genes_Acat1.csv.\n",
            "Total combined genes before removing duplicates: 102.\n",
            "Total combined genes after removing duplicates: 49.\n",
            "Combined list saved to Combined_Genes_List.txt.\n"
          ]
        }
      ]
    }
  ]
}